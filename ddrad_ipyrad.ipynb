{
 "cells": [
  {
   "cell_type": "markdown",
   "id": "5df39a4a",
   "metadata": {},
   "source": [
    "# Demultiplexing, aligning and calling genotypes for RADseq data using fastq-multx and ipyrad\n",
    "\n",
    "This notebook is for single-read RADseq data with a file for each index.  The input files are unmodified files recieved from the University of Oregon genomics core (GC3F) and a barcode file.  In this format, the data must be demultiplexed using fastq-multx and then aligned and called using ipyrad.  This file should be easily modified to handle paired end data in a similar format.  If your barcoding indexes have not been seperated for your read file (you have a single file with your read and barcode info), you can probably start directly in ipyrad and demultiplex in ipyrad as well.\n",
    "\n",
    "This process uses a bash script for fastq-multx and a bash script for ipyrad.  Parameters for ipyrad are kept in a seperate parameter file that is specified in the ipyrad bash script.  This parameter file allows modifications that allow you to specify input data and data types but also modify the alignment and genotype calling quality control parameters or specify a reference genome for alignment.\n",
    "\n",
    "This notebook is designed for a slurm based hpcc (specifically monsoon.hpc.nau.edu).  It requires a mamba environment named \"iprenv\" with ipyrad installed.  Here we use mambaforge/22.9.0.  You may need to change the version used in the ipyrad bash script if you are using a different version of mambaforge.\n",
    "\n",
    "**Input files**: \n",
    "* R1.fastq.gz I1.fastq.gz I2.fastq.gz  Where R1 is a fastq of single-end reads and I1 and I2 are fastqs of index 1 and 2 respectively.  Manually load this into your /scratch/usr/rad/ipyrad folder.\n",
    "* sep_barcodes.txt  A two column file with no header where the first column is your sample ID and the second is index1 and index2 seperated by a \"-\"  ex. 1RC     GTACGTTC-CCATCACA.  Manually load this into your /scratch/usr/rad/ipyrad folder.\n",
    "* params.txt  An ipyrad parameter file.  Examine and modify this file to your needs.\n",
    "\n",
    "**Bash scripts**\n",
    "* multx.sh  Bash script for running fastq-multx\n",
    "* ipyrad.sh  Bash script for alignment and genotype calling in ipyrad.\n",
    "\n",
    "**Ouput files**\n",
    "\n",
    "Output files can be found in rad_outfiles.  The parameter file is currently set to give all the possible outputs from ipyrad which include nexus, phylip, tremix, and vcf.\n",
    "\n"
   ]
  },
  {
   "cell_type": "markdown",
   "id": "060eb5ba",
   "metadata": {},
   "source": [
    "**Set values for your directory, set input file name:**"
   ]
  },
  {
   "cell_type": "code",
   "execution_count": 3,
   "id": "0d1b5f92",
   "metadata": {},
   "outputs": [],
   "source": [
    "mydir = \"your/directory/name\""
   ]
  },
  {
   "cell_type": "code",
   "execution_count": 4,
   "id": "f0e5a21c",
   "metadata": {},
   "outputs": [
    {
     "name": "stdout",
     "output_type": "stream",
     "text": [
      "/scratch/mw955/mive1\n"
     ]
    }
   ],
   "source": [
    "cd $mydir"
   ]
  },
  {
   "cell_type": "markdown",
   "id": "bad239cf",
   "metadata": {},
   "source": [
    "**Get bash scripts and parameter files**"
   ]
  },
  {
   "cell_type": "code",
   "execution_count": 4,
   "id": "975e09c4",
   "metadata": {},
   "outputs": [
    {
     "name": "stdout",
     "output_type": "stream",
     "text": [
      "Cloning into 'RAD_demult_align_genotype'...\n",
      "remote: Enumerating objects: 17, done.\u001b[K\n",
      "remote: Counting objects: 100% (17/17), done.\u001b[K\n",
      "remote: Compressing objects: 100% (17/17), done.\u001b[K\n",
      "remote: Total 17 (delta 5), reused 0 (delta 0), pack-reused 0\u001b[K\n",
      "Receiving objects: 100% (17/17), 6.05 KiB | 2.02 MiB/s, done.\n",
      "Resolving deltas: 100% (5/5), done.\n"
     ]
    }
   ],
   "source": [
    "!git clone https://github.com/thalictroides/RAD_demult_align_genotype"
   ]
  },
  {
   "cell_type": "code",
   "execution_count": 7,
   "id": "4efa1590",
   "metadata": {},
   "outputs": [
    {
     "name": "stdout",
     "output_type": "stream",
     "text": [
      "/scratch/mw955/mive1/RAD_demult_align_genotype\n"
     ]
    }
   ],
   "source": [
    "cd RAD_demult_align_genotype"
   ]
  },
  {
   "cell_type": "markdown",
   "id": "e2d181f7",
   "metadata": {},
   "source": [
    "**Manually add your R1.fastq.gz, I1.fastq.gz, I2.fastq.gz, and sepbarcodes.txt to this directory**"
   ]
  },
  {
   "cell_type": "code",
   "execution_count": 8,
   "id": "8632ffc9",
   "metadata": {},
   "outputs": [
    {
     "name": "stdout",
     "output_type": "stream",
     "text": [
      "I1.fastq.gz  README.md     ipyrad.sh  sep_barcodes.txt\r\n",
      "I2.fastq.gz  \u001b[0m\u001b[01;34mdemult\u001b[0m/       multx.sh   slurm-5960908.out\r\n",
      "R1.fastq.gz  \u001b[01;34mfastq-multx\u001b[0m/  param.txt\r\n"
     ]
    }
   ],
   "source": [
    "ls"
   ]
  },
  {
   "cell_type": "markdown",
   "id": "de17a802",
   "metadata": {},
   "source": [
    "## Run fastq-multx"
   ]
  },
  {
   "cell_type": "markdown",
   "id": "50b32f99",
   "metadata": {},
   "source": [
    "**get fastq-multx**"
   ]
  },
  {
   "cell_type": "code",
   "execution_count": 12,
   "id": "f6763099",
   "metadata": {},
   "outputs": [
    {
     "name": "stdout",
     "output_type": "stream",
     "text": [
      "Cloning into 'fastq-multx'...\n",
      "remote: Enumerating objects: 99, done.\u001b[K\n",
      "remote: Counting objects: 100% (27/27), done.\u001b[K\n",
      "remote: Compressing objects: 100% (21/21), done.\u001b[K\n",
      "remote: Total 99 (delta 11), reused 15 (delta 4), pack-reused 72\u001b[K\n",
      "Receiving objects: 100% (99/99), 117.53 KiB | 610.00 KiB/s, done.\n",
      "Resolving deltas: 100% (38/38), done.\n"
     ]
    }
   ],
   "source": [
    "!git clone https://github.com/brwnj/fastq-multx"
   ]
  },
  {
   "cell_type": "code",
   "execution_count": 13,
   "id": "6cd8307d",
   "metadata": {},
   "outputs": [
    {
     "name": "stdout",
     "output_type": "stream",
     "text": [
      "/scratch/mw955/mive1/RAD_demult_align_genotype/fastq-multx\n"
     ]
    }
   ],
   "source": [
    "cd fastq-multx"
   ]
  },
  {
   "cell_type": "code",
   "execution_count": 15,
   "id": "882d6230",
   "metadata": {},
   "outputs": [
    {
     "name": "stdout",
     "output_type": "stream",
     "text": [
      "g++ -O3 -I. fastq-multx.cpp fastq-lib.cpp -o fastq-multx\r\n"
     ]
    }
   ],
   "source": [
    "!make"
   ]
  },
  {
   "cell_type": "code",
   "execution_count": 16,
   "id": "b5faa35c",
   "metadata": {},
   "outputs": [
    {
     "name": "stdout",
     "output_type": "stream",
     "text": [
      "/scratch/mw955/mive1/RAD_demult_align_genotype\n"
     ]
    }
   ],
   "source": [
    "cd .."
   ]
  },
  {
   "cell_type": "markdown",
   "id": "14b453e2",
   "metadata": {},
   "source": [
    "**make folder for demultiplexed reads**"
   ]
  },
  {
   "cell_type": "code",
   "execution_count": 21,
   "id": "e0215545",
   "metadata": {},
   "outputs": [],
   "source": [
    "mkdir demult"
   ]
  },
  {
   "cell_type": "code",
   "execution_count": 22,
   "id": "13347077",
   "metadata": {},
   "outputs": [
    {
     "name": "stdout",
     "output_type": "stream",
     "text": [
      "Submitted batch job 5960908\r\n"
     ]
    }
   ],
   "source": [
    "!sbatch multx.sh"
   ]
  },
  {
   "cell_type": "markdown",
   "id": "63ca005a",
   "metadata": {},
   "source": [
    "## run ipyrad"
   ]
  },
  {
   "cell_type": "markdown",
   "id": "50748324",
   "metadata": {},
   "source": [
    "##  ipyrad scripts\n",
    "I've chosen to split my ipyrad scripts into two seperate scripts to handle the configuration limitations of Monsoon.  The first script does step 1-3.  Step 3 in ipyrad is clustering/mapping which takes large amounts of memory but not nearly as much time, so I've increased memory requirements while decreasing the amount of parallel jobs of my script.  The next script is steps 4-7.  Step 5 is genotype calling which takes more time but not nearly as much memory as clustering so my script here has decreased memory and increased parallelization.  I've included a single ipyrad script incase your hpcc configurations are different.\n",
    "\n",
    "Both scripts call the same parameter file.  The parameters for this analysis are all the same as the defaults except that I have specified that this analysis is ddrad in order for the clustering algorithm to work properly.  I also reduced the stringency setting for the for adapter filtering so that the program doesn't exclued reads that don't include adapter sequences since these were already removed in the demultiplexing step.  I have still specified my restriction overhang despite this not being used with the current settings because the program throws an error without a restriction overhand when ddrad is specified for data type."
   ]
  },
  {
   "cell_type": "code",
   "execution_count": 9,
   "id": "cf040a46",
   "metadata": {},
   "outputs": [
    {
     "name": "stdout",
     "output_type": "stream",
     "text": [
      "Submitted batch job 5961193\r\n"
     ]
    }
   ],
   "source": [
    "!sbatch ipyrad1.sh"
   ]
  },
  {
   "cell_type": "code",
   "execution_count": 2,
   "id": "5cf1591c",
   "metadata": {},
   "outputs": [
    {
     "name": "stdout",
     "output_type": "stream",
     "text": [
      " 1_get_matrix.txt             clumpK4_abgwas.R      part.nex\r\n",
      " 2_contigs_to_probes.txt      clump_abgwas.R        part.nex.log\r\n",
      " 5snpfiltering_SPCR.ipynb     clumpbash.sh          pca_radseq.R\r\n",
      " BSG_vcftools.ipynb           data.tnt              \u001b[0m\u001b[01;34mqmptut\u001b[0m/\r\n",
      " IQTree_MFP.sh                \u001b[01;34mfilter\u001b[0m/               rdabash.sh\r\n",
      " IQTree_MFP.sh.save           filtered_indv.log     simplejob.sh\r\n",
      " MAFFT.sh                     freq.log              snps.log\r\n",
      " \u001b[01;34mR\u001b[0m/                           fstruct.sh           'squeue -t R | grep mw955'\r\n",
      " \u001b[01;34mRAD_demult_align_genotype\u001b[0m/   lazyjob.sh            \u001b[01;34mtest\u001b[0m/\r\n",
      " RDA_monsoon.R                mive_ipyrad.ipynb     tnt.sh\r\n",
      " abgwas_for.sh                mive_vcftools.ipynb   \u001b[01;34mtools\u001b[0m/\r\n",
      " \u001b[01;32mclump.R\u001b[0m*                     \u001b[01;34mondemand\u001b[0m/\r\n",
      " clump.sh                     \u001b[01;34mpaml\u001b[0m/\r\n"
     ]
    }
   ],
   "source": [
    "!sbatch ipyrad2.sh"
   ]
  }
 ],
 "metadata": {
  "kernelspec": {
   "display_name": "Python 3 (ipykernel)",
   "language": "python",
   "name": "python3"
  },
  "language_info": {
   "codemirror_mode": {
    "name": "ipython",
    "version": 3
   },
   "file_extension": ".py",
   "mimetype": "text/x-python",
   "name": "python",
   "nbconvert_exporter": "python",
   "pygments_lexer": "ipython3",
   "version": "3.11.5"
  }
 },
 "nbformat": 4,
 "nbformat_minor": 5
}
